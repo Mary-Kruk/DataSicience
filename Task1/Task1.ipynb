{
  "cells": [
    {
      "cell_type": "markdown",
      "metadata": {
        "id": "-l0KFrcyUxh4"
      },
      "source": [
        "\n",
        "\n",
        "\n",
        "# **Import libraries**\n"
      ]
    },
    {
      "cell_type": "code",
      "execution_count": 1,
      "metadata": {
        "id": "ltUNvvkdQvZm"
      },
      "outputs": [],
      "source": [
        "import numpy as np\n",
        "import tensorflow as tf\n",
        "from tensorflow import keras\n",
        "from keras import layers\n",
        "from sklearn.ensemble import RandomForestClassifier\n",
        "from sklearn.metrics import classification_report, accuracy_score, confusion_matrix\n",
        "import matplotlib.pyplot as plt\n",
        "import seaborn as sns\n",
        "from abc import ABC, abstractmethod"
      ]
    },
    {
      "cell_type": "markdown",
      "metadata": {
        "id": "fgQV4_cCVL2x"
      },
      "source": [
        "\n",
        "\n",
        "# **Data Loading and Preparation**"
      ]
    },
    {
      "cell_type": "code",
      "execution_count": 2,
      "metadata": {
        "colab": {
          "base_uri": "https://localhost:8080/"
        },
        "id": "6kRCdzdlQ8J_",
        "outputId": "2da04650-6be2-4a41-cc41-a4ffe480453f"
      },
      "outputs": [
        {
          "output_type": "stream",
          "name": "stdout",
          "text": [
            "Downloading data from https://storage.googleapis.com/tensorflow/tf-keras-datasets/mnist.npz\n",
            "\u001b[1m11490434/11490434\u001b[0m \u001b[32m━━━━━━━━━━━━━━━━━━━━\u001b[0m\u001b[37m\u001b[0m \u001b[1m1s\u001b[0m 0us/step\n",
            "Data shape for RF/NN (training): (50000, 784)\n",
            "Data shape for CNN (training): (50000, 28, 28, 1)\n",
            "Label shape (training): (50000,)\n"
          ]
        }
      ],
      "source": [
        "# Load data\n",
        "(x_train_full, y_train_full), (x_test, y_test) = keras.datasets.mnist.load_data()\n",
        "\n",
        "# Normalize images\n",
        "x_train_full = x_train_full.astype(\"float32\") / 255\n",
        "x_test = x_test.astype(\"float32\") / 255\n",
        "\n",
        "# Create validation set\n",
        "x_train, x_valid = x_train_full[:50000], x_train_full[50000:]\n",
        "y_train, y_valid = y_train_full[:50000], y_train_full[50000:]\n",
        "\n",
        "# Prepare data for different models\n",
        "# For RF and NN: flatten images into vectors\n",
        "x_train_flat = x_train.reshape(-1, 28 * 28)\n",
        "x_test_flat = x_test.reshape(-1, 28 * 28)\n",
        "\n",
        "# For CNN: add color channel\n",
        "x_train_cnn = np.expand_dims(x_train, -1)\n",
        "x_test_cnn = np.expand_dims(x_test, -1)\n",
        "\n",
        "print(f\"Data shape for RF/NN (training): {x_train_flat.shape}\")\n",
        "print(f\"Data shape for CNN (training): {x_train_cnn.shape}\")\n",
        "print(f\"Label shape (training): {y_train.shape}\")\n"
      ]
    },
    {
      "cell_type": "markdown",
      "metadata": {
        "id": "9sm0tId8VgPe"
      },
      "source": [
        "# **Implementing the OOP framework**"
      ]
    },
    {
      "cell_type": "code",
      "execution_count": 3,
      "metadata": {
        "id": "2JkYCCOeRCWV"
      },
      "outputs": [],
      "source": [
        "class MnistClassifierInterface(ABC):\n",
        "    \"\"\"\n",
        "    Abstract base class (interface) for MNIST classifiers.\n",
        "    Defines the required methods that must be implemented in all child classes.\n",
        "    \"\"\"\n",
        "    @abstractmethod\n",
        "    def train(self, X_train, y_train):\n",
        "        \"\"\"Trains the model on the provided data.\"\"\"\n",
        "        pass\n",
        "\n",
        "    @abstractmethod\n",
        "    def predict(self, X_test):\n",
        "        \"\"\"Makes predictions on new data.\"\"\"\n",
        "        pass\n"
      ]
    },
    {
      "cell_type": "code",
      "execution_count": 4,
      "metadata": {
        "id": "phOUF7ICRFWY"
      },
      "outputs": [],
      "source": [
        "class RandomForestClassifierImpl(MnistClassifierInterface):\n",
        "    \"\"\"Implementation of a classifier based on Random Forest.\"\"\"\n",
        "    def __init__(self, n_estimators=100, random_state=42):\n",
        "        self.model = RandomForestClassifier(n_estimators=n_estimators, random_state=random_state, n_jobs=-1)\n",
        "        self._is_trained = False\n",
        "\n",
        "    def train(self, X_train, y_train):\n",
        "        print(\"Training Random Forest model...\")\n",
        "        self.model.fit(X_train, y_train)\n",
        "        self._is_trained = True\n",
        "        print(\"Training completed.\")\n",
        "\n",
        "    def predict(self, X_test):\n",
        "        if not self._is_trained:\n",
        "            raise RuntimeError(\"The model is not trained yet. Call train() before predict().\")\n",
        "        return self.model.predict(X_test)\n"
      ]
    },
    {
      "cell_type": "code",
      "execution_count": 5,
      "metadata": {
        "id": "6Z5sGzMxRIDg"
      },
      "outputs": [],
      "source": [
        "class FeedForwardNNClassifierImpl(MnistClassifierInterface):\n",
        "    \"\"\"Implementation of a classifier based on a fully connected neural network.\"\"\"\n",
        "    def __init__(self):\n",
        "        self.model = keras.Sequential([\n",
        "            layers.Flatten(input_shape=(28, 28)),\n",
        "            layers.Dense(128, activation=\"relu\"),\n",
        "            layers.Dense(64, activation=\"relu\"),\n",
        "            layers.Dense(10, activation=\"softmax\")\n",
        "        ])\n",
        "        self.model.compile(optimizer=\"adam\",\n",
        "                           loss=\"sparse_categorical_crossentropy\",\n",
        "                           metrics=[\"accuracy\"])\n",
        "        self._is_trained = False\n",
        "\n",
        "    def train(self, X_train, y_train):\n",
        "        print(\"Training Feed-Forward NN model...\")\n",
        "        self.model.fit(X_train, y_train, epochs=10, batch_size=64, validation_split=0.1, verbose=0)\n",
        "        self._is_trained = True\n",
        "        print(\"Training completed.\")\n",
        "\n",
        "    def predict(self, X_test):\n",
        "        if not self._is_trained:\n",
        "            raise RuntimeError(\"The model is not trained yet. Call train() before predict().\")\n",
        "        probabilities = self.model.predict(X_test)\n",
        "        return np.argmax(probabilities, axis=1)\n"
      ]
    },
    {
      "cell_type": "code",
      "execution_count": 6,
      "metadata": {
        "id": "jsEwaMNVRK-J"
      },
      "outputs": [],
      "source": [
        "class CNNClassifierImpl(MnistClassifierInterface):\n",
        "    \"\"\"Implementation of a classifier based on a Convolutional Neural Network (CNN).\"\"\"\n",
        "    def __init__(self):\n",
        "        self.model = keras.Sequential([\n",
        "            layers.Conv2D(32, kernel_size=(3, 3), activation=\"relu\", input_shape=(28, 28, 1)),\n",
        "            layers.MaxPooling2D(pool_size=(2, 2)),\n",
        "            layers.Conv2D(64, kernel_size=(3, 3), activation=\"relu\"),\n",
        "            layers.MaxPooling2D(pool_size=(2, 2)),\n",
        "            layers.Flatten(),\n",
        "            layers.Dropout(0.5),\n",
        "            layers.Dense(10, activation=\"softmax\")\n",
        "        ])\n",
        "        self.model.compile(optimizer=\"adam\",\n",
        "                           loss=\"sparse_categorical_crossentropy\",\n",
        "                           metrics=[\"accuracy\"])\n",
        "        self._is_trained = False\n",
        "\n",
        "    def train(self, X_train, y_train):\n",
        "        print(\"Training CNN model...\")\n",
        "        # For CNN, data must be in the format (n, 28, 28, 1)\n",
        "        X_train_cnn = np.expand_dims(X_train, -1)\n",
        "        self.model.fit(X_train_cnn, y_train, epochs=5, batch_size=128, validation_split=0.1, verbose=0)\n",
        "        self._is_trained = True\n",
        "        print(\"Training completed.\")\n",
        "\n",
        "    def predict(self, X_test):\n",
        "        if not self._is_trained:\n",
        "            raise RuntimeError(\"The model is not trained yet. Call train() before predict().\")\n",
        "        # For CNN, data must be in the format (n, 28, 28, 1)\n",
        "        X_test_cnn = np.expand_dims(X_test, -1)\n",
        "        probabilities = self.model.predict(X_test_cnn)\n",
        "        return np.argmax(probabilities, axis=1)\n"
      ]
    },
    {
      "cell_type": "code",
      "execution_count": 7,
      "metadata": {
        "id": "4dqHwyRDRNbx"
      },
      "outputs": [],
      "source": [
        "class MnistClassifier:\n",
        "    \"\"\"\n",
        "    Main facade class that provides a unified interface\n",
        "    for working with different MNIST classification models.\n",
        "    \"\"\"\n",
        "    def __init__(self, algorithm: str):\n",
        "        \"\"\"\n",
        "        Initializes the classifier based on the selected algorithm.\n",
        "        :param algorithm: 'rf' (Random Forest), 'nn' (Feed-Forward Neural Network), or 'cnn' (Convolutional NN).\n",
        "        \"\"\"\n",
        "        self.algorithm_name = algorithm\n",
        "        if algorithm == 'rf':\n",
        "            # For RF, data must be flattened\n",
        "            self._data_adapter = lambda x: x.reshape(-1, 28 * 28)\n",
        "            self._model_impl = RandomForestClassifierImpl()\n",
        "        elif algorithm == 'nn':\n",
        "            # For NN, no reshaping needed, Keras Flatten handles it\n",
        "            self._data_adapter = lambda x: x\n",
        "            self._model_impl = FeedForwardNNClassifierImpl()\n",
        "        elif algorithm == 'cnn':\n",
        "            # For CNN, data should be 4D, but we handle this inside the CNN class\n",
        "            self._data_adapter = lambda x: x\n",
        "            self._model_impl = CNNClassifierImpl()\n",
        "        else:\n",
        "            raise ValueError(f\"Unknown algorithm: {algorithm}. Available options: 'rf', 'nn', 'cnn'.\")\n",
        "\n",
        "    def train(self, X_train, y_train):\n",
        "        \"\"\"Trains the selected model.\"\"\"\n",
        "        print(f\"--- Starting training for algorithm: {self.algorithm_name} ---\")\n",
        "        adapted_X_train = self._data_adapter(X_train)\n",
        "        self._model_impl.train(adapted_X_train, y_train)\n",
        "\n",
        "    def predict(self, X_test):\n",
        "        \"\"\"Makes predictions using the trained model.\"\"\"\n",
        "        print(f\"--- Making predictions for algorithm: {self.algorithm_name} ---\")\n",
        "        adapted_X_test = self._data_adapter(X_test)\n",
        "        return self._model_impl.predict(adapted_X_test)\n",
        "\n",
        "    def evaluate(self, X_test, y_test):\n",
        "        \"\"\"Evaluates the model and prints metrics.\"\"\"\n",
        "        predictions = self.predict(X_test)\n",
        "        accuracy = accuracy_score(y_test, predictions)\n",
        "        report = classification_report(y_test, predictions)\n",
        "\n",
        "        print(\"\\n--- Evaluation Results ---\")\n",
        "        print(f\"Accuracy: {accuracy:.4f}\")\n",
        "        print(\"\\nClassification Report:\")\n",
        "        print(report)\n",
        "        return accuracy, report\n"
      ]
    },
    {
      "cell_type": "markdown",
      "metadata": {
        "id": "HkMDkluGVpQm"
      },
      "source": [
        "# **Working demonstration**"
      ]
    },
    {
      "cell_type": "code",
      "execution_count": 8,
      "metadata": {
        "colab": {
          "base_uri": "https://localhost:8080/"
        },
        "id": "BNkDT597RRPu",
        "outputId": "b03acdb0-54aa-4021-f18c-5357bb286961"
      },
      "outputs": [
        {
          "output_type": "stream",
          "name": "stdout",
          "text": [
            "--- Starting training for algorithm: rf ---\n",
            "Training Random Forest model...\n",
            "Training completed.\n",
            "--- Making predictions for algorithm: rf ---\n",
            "\n",
            "--- Evaluation Results ---\n",
            "Accuracy: 0.9680\n",
            "\n",
            "Classification Report:\n",
            "              precision    recall  f1-score   support\n",
            "\n",
            "           0       0.97      0.99      0.98       980\n",
            "           1       0.99      0.99      0.99      1135\n",
            "           2       0.96      0.97      0.96      1032\n",
            "           3       0.96      0.96      0.96      1010\n",
            "           4       0.97      0.97      0.97       982\n",
            "           5       0.97      0.97      0.97       892\n",
            "           6       0.97      0.98      0.98       958\n",
            "           7       0.97      0.96      0.96      1028\n",
            "           8       0.96      0.95      0.96       974\n",
            "           9       0.95      0.95      0.95      1009\n",
            "\n",
            "    accuracy                           0.97     10000\n",
            "   macro avg       0.97      0.97      0.97     10000\n",
            "weighted avg       0.97      0.97      0.97     10000\n",
            "\n"
          ]
        }
      ],
      "source": [
        "# Create an instance of the classifier for Random Forest\n",
        "rf_classifier = MnistClassifier(algorithm='rf')\n",
        "\n",
        "# Train the model (using original data; the adapter will handle preprocessing)\n",
        "rf_classifier.train(x_train, y_train)\n",
        "\n",
        "# Evaluate the model\n",
        "rf_accuracy, rf_report = rf_classifier.evaluate(x_test, y_test)\n"
      ]
    },
    {
      "cell_type": "code",
      "execution_count": 9,
      "metadata": {
        "colab": {
          "base_uri": "https://localhost:8080/"
        },
        "id": "9fWCDF_oRWM0",
        "outputId": "5ce356c5-59f3-4c60-c4bb-d144bc621076"
      },
      "outputs": [
        {
          "output_type": "stream",
          "name": "stdout",
          "text": [
            "--- Starting training for algorithm: nn ---\n",
            "Training Feed-Forward NN model...\n"
          ]
        },
        {
          "output_type": "stream",
          "name": "stderr",
          "text": [
            "/usr/local/lib/python3.12/dist-packages/keras/src/layers/reshaping/flatten.py:37: UserWarning: Do not pass an `input_shape`/`input_dim` argument to a layer. When using Sequential models, prefer using an `Input(shape)` object as the first layer in the model instead.\n",
            "  super().__init__(**kwargs)\n"
          ]
        },
        {
          "output_type": "stream",
          "name": "stdout",
          "text": [
            "Training completed.\n",
            "--- Making predictions for algorithm: nn ---\n",
            "\u001b[1m313/313\u001b[0m \u001b[32m━━━━━━━━━━━━━━━━━━━━\u001b[0m\u001b[37m\u001b[0m \u001b[1m1s\u001b[0m 1ms/step\n",
            "\n",
            "--- Evaluation Results ---\n",
            "Accuracy: 0.9746\n",
            "\n",
            "Classification Report:\n",
            "              precision    recall  f1-score   support\n",
            "\n",
            "           0       0.97      0.99      0.98       980\n",
            "           1       0.98      0.99      0.99      1135\n",
            "           2       0.97      0.98      0.98      1032\n",
            "           3       0.94      0.98      0.96      1010\n",
            "           4       0.98      0.97      0.98       982\n",
            "           5       0.99      0.94      0.96       892\n",
            "           6       0.99      0.97      0.98       958\n",
            "           7       0.98      0.96      0.97      1028\n",
            "           8       0.98      0.96      0.97       974\n",
            "           9       0.96      0.97      0.97      1009\n",
            "\n",
            "    accuracy                           0.97     10000\n",
            "   macro avg       0.98      0.97      0.97     10000\n",
            "weighted avg       0.97      0.97      0.97     10000\n",
            "\n"
          ]
        }
      ],
      "source": [
        "# Create an instance of the classifier for Feed-Forward NN\n",
        "nn_classifier = MnistClassifier(algorithm='nn')\n",
        "\n",
        "# Train the model\n",
        "nn_classifier.train(x_train, y_train)\n",
        "\n",
        "# Evaluate the model\n",
        "nn_accuracy, nn_report = nn_classifier.evaluate(x_test, y_test)\n"
      ]
    },
    {
      "cell_type": "code",
      "execution_count": 10,
      "metadata": {
        "colab": {
          "base_uri": "https://localhost:8080/"
        },
        "id": "7Ib6QkeaRYti",
        "outputId": "484444b4-2eff-4255-dd00-d2392318bae9"
      },
      "outputs": [
        {
          "output_type": "stream",
          "name": "stdout",
          "text": [
            "--- Starting training for algorithm: cnn ---\n",
            "Training CNN model...\n"
          ]
        },
        {
          "output_type": "stream",
          "name": "stderr",
          "text": [
            "/usr/local/lib/python3.12/dist-packages/keras/src/layers/convolutional/base_conv.py:113: UserWarning: Do not pass an `input_shape`/`input_dim` argument to a layer. When using Sequential models, prefer using an `Input(shape)` object as the first layer in the model instead.\n",
            "  super().__init__(activity_regularizer=activity_regularizer, **kwargs)\n"
          ]
        },
        {
          "output_type": "stream",
          "name": "stdout",
          "text": [
            "Training completed.\n",
            "--- Making predictions for algorithm: cnn ---\n",
            "\u001b[1m313/313\u001b[0m \u001b[32m━━━━━━━━━━━━━━━━━━━━\u001b[0m\u001b[37m\u001b[0m \u001b[1m2s\u001b[0m 7ms/step\n",
            "\n",
            "--- Evaluation Results ---\n",
            "Accuracy: 0.9848\n",
            "\n",
            "Classification Report:\n",
            "              precision    recall  f1-score   support\n",
            "\n",
            "           0       0.99      0.99      0.99       980\n",
            "           1       0.99      0.99      0.99      1135\n",
            "           2       0.98      0.99      0.98      1032\n",
            "           3       0.99      0.98      0.99      1010\n",
            "           4       0.99      0.99      0.99       982\n",
            "           5       0.97      0.99      0.98       892\n",
            "           6       0.99      0.99      0.99       958\n",
            "           7       0.98      0.98      0.98      1028\n",
            "           8       1.00      0.95      0.97       974\n",
            "           9       0.98      0.98      0.98      1009\n",
            "\n",
            "    accuracy                           0.98     10000\n",
            "   macro avg       0.98      0.98      0.98     10000\n",
            "weighted avg       0.98      0.98      0.98     10000\n",
            "\n"
          ]
        }
      ],
      "source": [
        "# Create an instance of the classifier for CNN\n",
        "cnn_classifier = MnistClassifier(algorithm='cnn')\n",
        "\n",
        "# Train the model\n",
        "cnn_classifier.train(x_train, y_train)\n",
        "\n",
        "# Evaluate the model\n",
        "cnn_accuracy, cnn_report = cnn_classifier.evaluate(x_test, y_test)\n"
      ]
    },
    {
      "cell_type": "code",
      "execution_count": 11,
      "metadata": {
        "colab": {
          "base_uri": "https://localhost:8080/",
          "height": 421
        },
        "id": "XfW2eQGERby6",
        "outputId": "d6f51d43-f825-487d-a316-0231699f5e60"
      },
      "outputs": [
        {
          "output_type": "stream",
          "name": "stdout",
          "text": [
            "\n",
            "--- Example predictions from the CNN model ---\n",
            "--- Making predictions for algorithm: cnn ---\n",
            "\u001b[1m1/1\u001b[0m \u001b[32m━━━━━━━━━━━━━━━━━━━━\u001b[0m\u001b[37m\u001b[0m \u001b[1m0s\u001b[0m 38ms/step\n"
          ]
        },
        {
          "output_type": "display_data",
          "data": {
            "text/plain": [
              "<Figure size 1500x500 with 10 Axes>"
            ],
            "image/png": "[encoded data removed]"
          },
          "metadata": {}
        }
      ],
      "source": [
        "def plot_predictions(classifier, X_data, y_true, num_images=10):\n",
        "    predictions = classifier.predict(X_data)\n",
        "\n",
        "    plt.figure(figsize=(15, 5))\n",
        "    for i in range(num_images):\n",
        "        plt.subplot(2, 5, i + 1)\n",
        "        plt.imshow(X_data[i], cmap='binary')\n",
        "        plt.title(f\"Prediction: {predictions[i]}\\nTrue: {y_true[i]}\")\n",
        "        plt.axis('off')\n",
        "    plt.tight_layout()\n",
        "    plt.show()\n",
        "\n",
        "print(\"\\n--- Example predictions from the CNN model ---\")\n",
        "plot_predictions(cnn_classifier, x_test[:10], y_test[:10])\n"
      ]
    }
  ],
  "metadata": {
    "colab": {
      "provenance": []
    },
    "kernelspec": {
      "display_name": "Python 3",
      "name": "python3"
    },
    "language_info": {
      "name": "python"
    }
  },
  "nbformat": 4,
  "nbformat_minor": 0
}